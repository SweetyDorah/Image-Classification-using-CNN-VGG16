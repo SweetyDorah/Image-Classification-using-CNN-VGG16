{
 "cells": [
  {
   "cell_type": "code",
   "execution_count": 12,
   "id": "9e74583e-95ec-42c6-99bb-92af88a76131",
   "metadata": {},
   "outputs": [],
   "source": [
    "import tensorflow as tf\n",
    "from tensorflow.keras.applications import VGG16\n",
    "from tensorflow.keras.layers import Conv2D, MaxPooling2D, Flatten, Dense, Dropout, GlobalAveragePooling2D\n",
    "from tensorflow.keras.models import Sequential\n",
    "from tensorflow.keras.preprocessing.image import ImageDataGenerator\n",
    "from tensorflow.keras.utils import load_img, img_to_array\n",
    "from tensorflow.keras.optimizers import Adam"
   ]
  },
  {
   "cell_type": "code",
   "execution_count": 2,
   "id": "bb939b55-f556-4981-b5c1-21274b247d71",
   "metadata": {},
   "outputs": [],
   "source": [
    "img_width, img_height = 224, 224\n",
    "input_shape = (img_width, img_height, 3)\n",
    "batch_size = 32\n",
    "epochs = 10"
   ]
  },
  {
   "cell_type": "code",
   "execution_count": 3,
   "id": "4968d26d-7b47-4c9b-b560-2e75fcb913b7",
   "metadata": {},
   "outputs": [
    {
     "name": "stdout",
     "output_type": "stream",
     "text": [
      "Found 20000 images belonging to 2 classes.\n",
      "Found 5000 images belonging to 2 classes.\n"
     ]
    }
   ],
   "source": [
    "train_data_dir = 'train/' \n",
    "\n",
    "datagen = ImageDataGenerator(\n",
    "    rescale=1./255,\n",
    "    shear_range=0.2,\n",
    "    zoom_range=0.2,\n",
    "    horizontal_flip=True,\n",
    "    validation_split=0.2\n",
    ")\n",
    "\n",
    "train_generator = datagen.flow_from_directory(\n",
    "    train_data_dir,\n",
    "    target_size=(img_width, img_height),\n",
    "    batch_size=32,\n",
    "    class_mode='binary',\n",
    "    subset='training'\n",
    ")\n",
    "\n",
    "validation_generator = datagen.flow_from_directory(\n",
    "    train_data_dir,\n",
    "    target_size=(img_width, img_height),\n",
    "    batch_size=32,\n",
    "    class_mode='binary',\n",
    "    subset='validation'\n",
    ")"
   ]
  },
  {
   "cell_type": "code",
   "execution_count": 4,
   "id": "ef24b4b2-c2ea-48d2-8a9c-e7b53ecf4612",
   "metadata": {},
   "outputs": [],
   "source": [
    "base_model = VGG16(weights='imagenet', include_top=False, input_shape=input_shape)"
   ]
  },
  {
   "cell_type": "code",
   "execution_count": 6,
   "id": "094eb6a0-153e-44d6-9150-724d58484479",
   "metadata": {},
   "outputs": [],
   "source": [
    "for layer in base_model.layers:\n",
    "    layer.trainable = False"
   ]
  },
  {
   "cell_type": "code",
   "execution_count": 5,
   "id": "175696ce-aa37-4584-83d6-d7fdaa1e9f59",
   "metadata": {},
   "outputs": [],
   "source": [
    "model = Sequential([\n",
    "    base_model,\n",
    "    \n",
    "    Conv2D(32, (3, 3), activation='relu', padding='same'),\n",
    "    MaxPooling2D((2, 2)),\n",
    "    \n",
    "    Conv2D(64, (3, 3), activation='relu', padding='same'),\n",
    "    MaxPooling2D((2, 2)),\n",
    "    \n",
    "    Conv2D(128, (3, 3), activation='relu', padding='same'),\n",
    "    \n",
    "    Flatten(),\n",
    "    Dense(512, activation='relu'),\n",
    "    Dropout(0.5),\n",
    "    Dense(1, activation='sigmoid')\n",
    "])\n"
   ]
  },
  {
   "cell_type": "code",
   "execution_count": 7,
   "id": "c6a2e2fe-46c7-4f16-b965-585547fad317",
   "metadata": {},
   "outputs": [],
   "source": [
    "model.compile(optimizer=Adam(learning_rate=0.0001), loss='binary_crossentropy', metrics=['accuracy'])"
   ]
  },
  {
   "cell_type": "code",
   "execution_count": 8,
   "id": "982895ae-17d6-4c8e-9d07-f625629ed224",
   "metadata": {},
   "outputs": [
    {
     "name": "stdout",
     "output_type": "stream",
     "text": [
      "[PhysicalDevice(name='/physical_device:GPU:0', device_type='GPU')]\n"
     ]
    }
   ],
   "source": [
    "print(tf.config.list_physical_devices('GPU'))"
   ]
  },
  {
   "cell_type": "code",
   "execution_count": 9,
   "id": "bc26db95-5d12-4cde-ad7a-135080719cf2",
   "metadata": {},
   "outputs": [
    {
     "name": "stdout",
     "output_type": "stream",
     "text": [
      "Epoch 1/10\n",
      "625/625 [==============================] - 653s 1s/step - loss: 0.3003 - accuracy: 0.8676 - val_loss: 0.1971 - val_accuracy: 0.9159\n",
      "Epoch 2/10\n",
      "625/625 [==============================] - 496s 793ms/step - loss: 0.1882 - accuracy: 0.9224 - val_loss: 0.1769 - val_accuracy: 0.9289\n",
      "Epoch 3/10\n",
      "625/625 [==============================] - 529s 847ms/step - loss: 0.1689 - accuracy: 0.9307 - val_loss: 0.1826 - val_accuracy: 0.9265\n",
      "Epoch 4/10\n",
      "625/625 [==============================] - 524s 838ms/step - loss: 0.1583 - accuracy: 0.9367 - val_loss: 0.1686 - val_accuracy: 0.9275\n",
      "Epoch 5/10\n",
      "625/625 [==============================] - 542s 867ms/step - loss: 0.1398 - accuracy: 0.9428 - val_loss: 0.1578 - val_accuracy: 0.9399\n",
      "Epoch 6/10\n",
      "625/625 [==============================] - 549s 878ms/step - loss: 0.1382 - accuracy: 0.9423 - val_loss: 0.1611 - val_accuracy: 0.9347\n",
      "Epoch 7/10\n",
      "625/625 [==============================] - 585s 936ms/step - loss: 0.1293 - accuracy: 0.9475 - val_loss: 0.1899 - val_accuracy: 0.9253\n",
      "Epoch 8/10\n",
      "625/625 [==============================] - 522s 836ms/step - loss: 0.1185 - accuracy: 0.9525 - val_loss: 0.1493 - val_accuracy: 0.9415\n",
      "Epoch 9/10\n",
      "625/625 [==============================] - 701s 1s/step - loss: 0.1118 - accuracy: 0.9563 - val_loss: 0.1630 - val_accuracy: 0.9363\n",
      "Epoch 10/10\n",
      "625/625 [==============================] - 724s 1s/step - loss: 0.1070 - accuracy: 0.9585 - val_loss: 0.1566 - val_accuracy: 0.9393\n"
     ]
    }
   ],
   "source": [
    "with tf.device('/GPU:0'):\n",
    "    history = model.fit(\n",
    "        train_generator,\n",
    "        steps_per_epoch=train_generator.samples // batch_size,\n",
    "        validation_data=validation_generator,\n",
    "        validation_steps=validation_generator.samples // batch_size,\n",
    "        epochs=epochs\n",
    "    )"
   ]
  },
  {
   "cell_type": "code",
   "execution_count": 22,
   "id": "68f2aa16-22b5-497d-b3c7-5d8f6a131cfb",
   "metadata": {},
   "outputs": [],
   "source": [
    "model.save('dog_vs_cat_cnn_vgg16.h5')"
   ]
  },
  {
   "cell_type": "code",
   "execution_count": 26,
   "id": "92db5d25-01f9-4333-86cc-9ba54223aa69",
   "metadata": {},
   "outputs": [],
   "source": [
    "img_path = 'cat.jpg'  \n",
    "img = load_img(img_path, target_size=(224, 224))  # Resize the image to the target size\n",
    "img_array = img_to_array(img)  # Convert the image to a numpy array\n",
    "img_array = tf.expand_dims(img_array, axis=0)  # Add a batch dimension\n",
    "img_array = img_array / 255.0  # Rescale the image if you used rescaling during training"
   ]
  },
  {
   "cell_type": "code",
   "execution_count": 27,
   "id": "a0ec1a6d-04f9-4507-b5eb-a779833ee787",
   "metadata": {},
   "outputs": [
    {
     "name": "stdout",
     "output_type": "stream",
     "text": [
      "1/1 [==============================] - 0s 50ms/step\n"
     ]
    }
   ],
   "source": [
    "prediction = model.predict(img_array)"
   ]
  },
  {
   "cell_type": "code",
   "execution_count": 28,
   "id": "1c5f65ad-39f7-4dc5-a4ae-5051b696e8bf",
   "metadata": {},
   "outputs": [
    {
     "name": "stdout",
     "output_type": "stream",
     "text": [
      "It's a cat!\n"
     ]
    }
   ],
   "source": [
    "if prediction[0] > 0.5:\n",
    "    print(\"It's a dog!\")\n",
    "else:\n",
    "    print(\"It's a cat!\")"
   ]
  },
  {
   "cell_type": "code",
   "execution_count": null,
   "id": "c200650e-0779-484f-9577-6383fe93f694",
   "metadata": {},
   "outputs": [],
   "source": []
  }
 ],
 "metadata": {
  "kernelspec": {
   "display_name": "Python (myenv)",
   "language": "python",
   "name": "myenv"
  },
  "language_info": {
   "codemirror_mode": {
    "name": "ipython",
    "version": 3
   },
   "file_extension": ".py",
   "mimetype": "text/x-python",
   "name": "python",
   "nbconvert_exporter": "python",
   "pygments_lexer": "ipython3",
   "version": "3.9.19"
  }
 },
 "nbformat": 4,
 "nbformat_minor": 5
}
